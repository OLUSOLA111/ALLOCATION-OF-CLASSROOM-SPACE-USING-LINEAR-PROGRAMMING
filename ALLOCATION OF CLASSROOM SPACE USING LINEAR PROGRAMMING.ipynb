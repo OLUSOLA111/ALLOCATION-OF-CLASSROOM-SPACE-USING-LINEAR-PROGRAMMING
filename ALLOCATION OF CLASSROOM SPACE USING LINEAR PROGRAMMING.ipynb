{
 "cells": [
  {
   "cell_type": "markdown",
   "metadata": {},
   "source": [
    "# ALLOCATION OF CLASSROOM SPACE USING LINEAR PROGRAMMING\n",
    "## (A CASE STUDY: ENGINEERING BUILDING AT THE UNIVERSITY OF CALGARY)"
   ]
  },
  {
   "cell_type": "markdown",
   "metadata": {},
   "source": [
    "### EXECUTIVE SUMMARY"
   ]
  },
  {
   "cell_type": "markdown",
   "metadata": {},
   "source": [
    "The use of linear programming to solve the problem of over-allocation and under-allocation of scarce classroom space was\n",
    "considered with reference to the engineering building at the university of calgary. Due to the ongoing COVID-19 pandemic, the school management has reduced the number of students that can make use a class for a particular course to thirty students (30) per class and since we have ten classes, the total number of students that can make use of the classes shouldn't be greater than three hundred (300) but the management gave an exception to classes that have higher seating capacity allowing them to accomodate up to seventy students (70).Research was done and data was collected from the University's website on the classroom facilities in the engineering building and the number of engineering students per-course. Assuming five major engineering programmes are considered and the classroom spaces are assigned to one undergraduate course and one masters course. A linear programming model was formulated based on the data collected to maximize the usage of the classroom space. Python with the aid of jupyter notebook was used based on the simplex algorithm, revised simplex algorithm and Pulp library to obtain optimal solution. \n",
    "Analysis of the result showed that one thousand and twenty five (1025) seats can be used by the students for their classes following the social distancing rules making the total number of students using the ten(10) classrooms to be three hundred in total (300). It was also observed that only seven out of the ten classrooms were assigned to students which means that the classrooms that were not assigned can be assigned to other students in other deparment instead of leaving them idle or the management can reduce the number of students intake during the COVID-19 pandemic if the classes in the engineering building are meant for one course in undergrad and one graduate course to maximize their profit margin."
   ]
  },
  {
   "cell_type": "markdown",
   "metadata": {},
   "source": [
    "#### Keywords: \n",
    "    Linear programming, COVID-19, Optimal solution, Simplex Algorithm, Engineering building, University of Calgary."
   ]
  },
  {
   "cell_type": "markdown",
   "metadata": {},
   "source": [
    "#### Assumptions:\n",
    "    1. Five major engineering programmes were considered\n",
    "    2. Classroom spaces are assigned to a course in undergraduate studies and one in graudate studies. \n",
    "    3. The area of space that can be used and the spaces required by the students cannot be modified.\n",
    "    4. Number of times the class-rooms are assigned cannnot exceed the number of available classrooms during a lecture period.\n",
    "    5. The order in which the classrooms are assigned cannot be changed\n",
    "   "
   ]
  },
  {
   "cell_type": "markdown",
   "metadata": {},
   "source": [
    "### INTRODUCTION"
   ]
  },
  {
   "cell_type": "markdown",
   "metadata": {},
   "source": [
    " The problem of allocation of scarce resource to satisfy unlimited human needs has been and will continue to be a global phenomenon confronting managers, administrators, entrepreneurs, head of institutions and individuals alike.\n",
    "\n",
    " Space allocation can be defined as the allocation of resources to areas such as rooms, satisfying as many requirements and constraints as possible. Space allocation as a process of allocating rooms or areas of space for specific purpose[1]. Thus, since it is limited it must be well managed by the faculty towards availability and suitability for the students.\n",
    "\n",
    "\n",
    "In this study, Classroom Space Allocation refers to the effective distribution of the available areas of classroom space among a number of engineering majors with different sizes of student population so as to ensure optimal space utilization and the satisfaction of additional requirements and/or constraints. In this generic case, an important \n",
    "condition exists: the areas of space that can be used and the space required by the entities are not subject to \n",
    "modification. The ideal solution in the space allocation problem is one where all the entities are allocated, no \n",
    "space is wasted or overused and every additional requirements and constraints have been satisfied.\n",
    "\n",
    "A procedure for allocating classrooms in an is based on a linear programming model in which a penalty function is minimized[2]. With the \n",
    "default values of some parameters provided by the procedure, the model first assigns as many real rooms to the \n",
    "requests as possible. It also seeks to do so with the most preferred rooms. Finally, when it is necessary to depart \n",
    "from the most preferred rooms to satisfy the first objective, the model attempts to spread this departure \n",
    "uniformly among requests. By altering the default values in the penalty function, the user may also favor some \n",
    "requests in the attribution of rooms. Constraints are concerned with the availability of rooms at various hours of \n",
    "the day, and with the requests for these rooms. They stated emphatically that since this approach implicitly \n",
    "explores all possible assignments, it should produce better results than manual allocation. Results of empirical \n",
    "applications confirmed these expectations, taking the number of demands that can be met as the main criterion. \n",
    "Moreover, an automated procedure to prepare the problem and decipher a dolution has made it possible to \n",
    "decrease substantially the time spent on this task.\n",
    "\n",
    "In accordance with the mission of the engineering faculty at the university of calgary, classroom resources \n",
    "are primarily for use by students, and staff for educational activities and programs that are directly related to the \n",
    "functions of teaching, research, and scholarly production. Every effort is always made by the University to ensure \n",
    "that classrooms are assigned fairly and used appropriately to accommodate the University's academic and \n",
    "instructional needs.\n",
    "\n",
    "A better way to consistently and effectively allocate classrooms is to use a computer-assisted system that will keep track of all classrooms in the engineering building along with specific details about those rooms that can automatically suggest efficient pairings with the courses offered for a given semester[3]. The \n",
    "efficiency will be judged based on many factors, most importantly being that the size of each room is used \n",
    "effectively. Studies were make by researchers about assigning a number of courses to classrooms taking into consideration constraints like classroom capacities[4].\n",
    "\n",
    "The Mathematical programming that solves the problem of determining the \n",
    "optimal allocation of limited resources required to meet a given objective is the linear programming, a method \n",
    "of allocating limited resources to competing needs in the best way in order to ensure optimality[5]. Linear \n",
    "programming deals with optimization problems where both the objective function to be optimized and all\n",
    "constraints are linear in terms of decision variables.\n",
    "\n",
    "Linear programming (LP)  or Linear Optimisation may be defined as the problem of maximizing or minimizing a linear function that is subjected to linear constraints. The constraints may be equalities or inequalities. The optimisation problems involve the calculation of profit and loss.  Linear programming problems are an important class of optimisation problems, that helps to find the feasible region and optimise the solution in order to have the highest or lowest value of the function[6].\n",
    "\n",
    "In other words, linear programming is considered as an optimization method to maximize or minimize the objective function of the given mathematical model with the set of some requirements which are represented in the linear relationship. The main aim of the linear programming problem is to find the optimal solution. The linear programming problem can be solved using different methods, such as the graphical method, simplex method, or by using tools such as R, open solver etc. Here, we will use the most important technique called the simplex method.\n",
    "\n",
    "The objectives of undertaking this study on “allocation of classroom space using linear programming at \n",
    "the engineering building (University of calgary) is to find out how classroom spaces are allocated to engineering students of the university based on the ongoing COVID-19 pandemic and various courses offered by the students and also to develop a linear \n",
    "programming model to efficiently allocate classroom space to engineering students in the University based on the various courses offered by the students to ensure optimal use of the classrooms available. "
   ]
  },
  {
   "cell_type": "markdown",
   "metadata": {},
   "source": [
    "### METHODOLOGY"
   ]
  },
  {
   "cell_type": "markdown",
   "metadata": {},
   "source": [
    "The data needed for this study was collected from the University of calgary website. The number of classsrooms engineering building has and the capacities of each classroom were clearly stated. Also information was sort for on the number of programmes the college offers and the number of students enrolled on each programme.\n",
    "\n",
    "The students were assigned to the one thousand two hundred and thirty nine(1239) classroom spaces that were available in the ten classrooms of different sizes. At the begnning of this year, new students are admitted into the faculty of engineering and as a result the college must plan how to allocate these new students and the continuing students to the available classrooms so as to avoid over-allocation and congestion of the classroom spaces due to the ongoing COVID-19 pandemic.\n",
    "    \n",
    "Within a period, the number of times classroom type 1 could be assigned cannot exceed one, classroom type 2 cannot be assigned more than once, classroom type 3 cannot be assigned more than once, classroom type 4 cannot be assigned more than twice, classroom type 5 cannot be assigned more than once, classroom type 6 cannot be assigned more than once, classroom type 7 cannot be assigned more than once, classroom type eight cannot be assigned more than once, classroom type 9 cannot be assigned more than once, classroom type 10 cannot be assigned more than once.\n",
    "\n",
    "Formulating the linear programming problem based on the above information to maximize the usage of the classroom spaces."
   ]
  },
  {
   "cell_type": "markdown",
   "metadata": {},
   "source": [
    "##### MODELING TECHNIQUE"
   ]
  },
  {
   "cell_type": "markdown",
   "metadata": {},
   "source": [
    "The classroom space allocation problem can be considered as a linear programming problem. The classroom space was categorized into types according to the number of seats and the type of equipments available. The students were put into groups based on the programme and the level of the sudents.\n",
    "Let the capacity of each category (type) of classroom be $C_i = C_1,C_2,C_3...C_n$ for i=1,2,3...n where\n",
    "<br>$C_1$ = capacity of a room of type 1\n",
    "<br>$C_2$ = capacity of a room of type 2 \n",
    "<br>$C_3$ = capacity of a room of type 3 \n",
    "<br>$C_4$ = capacity of a room of type 4 \n",
    "<br>$C_5$ = capacity of a room of type 5 \n",
    "<br>.\n",
    "<br>.\n",
    "<br>.\n",
    "<br>$C_10$ = capacity of a room of type 10\n",
    "<br> Let the classrooms be categorized into types as $X_i = X_1,X_2,X_3...X_n$ for i=1,2,3...n based on the capacities of the rooms, where\n",
    "<br>$X_1$ = clasroom type 1 with a seating capacity $C_1$\n",
    "<br>$X_2$ = clasroom type 2 with a seating capacity $C_2$ \n",
    "<br>$X_3$ = clasroom type 3 with a seating capacity $C_3$\n",
    "<br>$X_4$ = clasroom type 4 with a seating capacity $C_4$\n",
    "<br>$X_5$ = clasroom type 5 with a seating capacity $C_5$\n",
    "<br>.\n",
    "<br>.\n",
    "<br>.\n",
    "<br>$X_10$ = clasroom type 10 with a seating capacity $C_10$\n",
    "<br> Again, let the number of classrooms of each type be $a_1,a_2,a_3...a_n$\n",
    "<br> Where;\n",
    "<br> $a_1$ = number of rooms of classroom type 1\n",
    "<br> $a_2$ = number of rooms of classroom type 2\n",
    "<br> $a_3$ = number of rooms of classroom type 3, in that order.\n",
    "<br> Again, let the number of students assigned to each classroom be $b_1,b_2,b_3,b_4...b_n$\n",
    "<br> Where;\n",
    "<br> $b_1$ = number of students assigned to classroom type 1\n",
    "<br> $b_2$ = number of students assigned to classroom type 2\n",
    "<br> $b_3$ = number of students assigned to classroom type 3, in that order.\n",
    "\n",
    "<br>Also let the total availble classrooms space of all the types of classrooms denoted by $d$. $d = \\sum \\limits _{i=1} ^{n} a_{i}c_{i} $\n",
    "\n",
    "<br> And let the total available space for students stated by the management be $E$ due to covid 19 restriction."
   ]
  },
  {
   "cell_type": "markdown",
   "metadata": {},
   "source": [
    "##### The general formulation of the allocation problem is as follows"
   ]
  },
  {
   "cell_type": "markdown",
   "metadata": {},
   "source": [
    "The objective function is\n",
    "<br>Maximize $ \\sum \\limits _{i=1} ^{n} C_{i}X_{i} $\n",
    "<br> subject to the constraints;\n",
    "<br> $\\sum \\limits _{i=1} ^{n} a_{i}x_{i} \\le d $      (i = 1,2,3...n)\n",
    "<br> Since the total number of students that could be assigned to a number of categories of the rooms cannot exceed the total classroom space available for each of the classroom.\n",
    "<br> $\\sum \\limits _{i=1} ^{n} b_{i}x_{i} \\le E $      (i = 1,2,3...n)\n",
    "<br> Again $X_i \\ge 0$ for (i=1,2,3,...,10) since the number of students to be assigned to a room cannot be a negative number."
   ]
  },
  {
   "cell_type": "markdown",
   "metadata": {},
   "source": [
    "This approach had to be taken with reasonable assumptions like the classroom spaces are assigned to only an undergraduate engineering course and a masters course, number of spaces that can be used cannot be modified, Number of times the class-rooms are assigned cannnot exceed the number of available class-rooms during a lecture period. Table 2 and 3 below illustrates the data gotten on the classroom facility and the number of students per programme for this problem."
   ]
  },
  {
   "cell_type": "markdown",
   "metadata": {},
   "source": [
    "| Classroom Type ($T_i$)   | Seatng Capacity ($C_i$) | Number of Lecture Halls available($A_i$) |\n",
    "| --- | --- | --- |\n",
    "| T1 = ENA101 | 154 | 1 |\n",
    "| T2 = ENA103| 148 | 1 |\n",
    "| T3 = ENA201| 334 | 1 |\n",
    "| T4 = ENA233,ENA235| 18 | 2 |\n",
    "| T5 = ENE239| 105 | 1 |\n",
    "| T6 = ENE241| 140 | 1 |\n",
    "| T7 = ENE243| 147 | 1 |\n",
    "| T8 = ENE322| 65 | 1 |\n",
    "| T9 = ENE328| 65 | 1 |\n",
    "| T10 = ENF334| 45 | 1 |}\n",
    "\n",
    "\n",
    "<br>                                 Table 2: Data on classroom facility"
   ]
  },
  {
   "cell_type": "markdown",
   "metadata": {},
   "source": [
    "| Program                            | level |      Number of students |\n",
    "| --- | --- | --- |\n",
    "| Chemical and Petroleum Engineering | Undergraduate(ENCH 315)  | 50 |\n",
    "|                                     |Graduate(ENCH 677) | 30 |\n",
    "| Civil Engineering                 | Undergraduate(ENCI 300) |70|\n",
    "|                                     |Graduate(ENCI 715) | 80 |\n",
    "| Electrical and software Engineering | Undergraduate(ENEL 201)| 110 |\n",
    "|                                     |Graduate(ENEL 601) | 20 |\n",
    "| Geomatics Engineering               | Undergraduate(ENGO 333) | 40 |\n",
    "|                                     |Graduate(ENGO 675) | 75 |\n",
    "| Mechanical and Manufacturing Engineering | Undergraduate(ENME 101)| 90 |\n",
    "|                                     |Graduate(ENME 708) | 30 |}\n",
    "\n",
    "<br> Table 4: Number of Students per programme"
   ]
  },
  {
   "cell_type": "markdown",
   "metadata": {},
   "source": [
    "The objective function was setup as:\n",
    "<br>$Maximize$ $z = 154x_1 + 148x_2 + 334x_3 + 18x_4 + 105x_5 + 14x_6 + 147x_7 + 65x_8 + 65x_9 + 45x_10$\n",
    "<br>$Minimize$ $-154x_1 - 148x_2 - 334x_3 - 18x_4 - 105x_5 - 140x_6 - 147x_7 - 65x_8 - 65x_9 - 45x_10$\n",
    "\n",
    "\n",
    "subject to the constraints;\n",
    "\n",
    "$x_1 + x_2 + x_3 + 2x_4 + x_5 + x_6 + x_7 + x_8 + x_9 + x_10  \\le 11$\n",
    "\n",
    "$154x_1 + 148x_2 + 334x_3 + 18x_4 + 105x_5 + 140x_6 + 147x_7 + 65x_8 + 65x_9 + 45x_10  \\le 1239$\n",
    "\n",
    "$50x_1 + 30x_2 + 70x_3 + 80x_4 + 110x_5 + 20x_6 + 40x_7 + 75x_8 + 90x_9 + 30x_10  \\le 300$\n",
    "\n",
    "$x_1 \\le 1$\n",
    "\n",
    "$x_2 \\le 1$\n",
    "\n",
    "$x_3 \\le 1$\n",
    "\n",
    "$x_4 \\le 2$\n",
    "\n",
    "$x_5 \\le 1$\n",
    "\n",
    "$x_6 \\le 1$\n",
    "\n",
    "$x_7 \\le 1$\n",
    "\n",
    "$x_8 \\le 1$\n",
    "\n",
    "$x_9 \\le 1$\n",
    "\n",
    "$x_10 \\le 1$\n",
    "<br>Where:\n",
    "<br>$X_1$ = clasroom type 1 with a seating capacity of 154\n",
    "<br>$X_2$ = clasroom type 2 with a seating capacity of 148 \n",
    "<br>$X_3$ = clasroom type 3 with a seating capacity of 334\n",
    "<br>$X_4$ = clasroom type 4 with a seating capacity of 18\n",
    "<br>$X_5$ = clasroom type 5 with a seating capacity of 105\n",
    "<br>$X_6$ = clasroom type 6 with a seating capacity of 140\n",
    "<br>$X_7$ = clasroom type 7 with a seating capacity of 147\n",
    "<br>$X_8$ = clasroom type 8 with a seating capacity of 65\n",
    "<br>$X_9$ = clasroom type 9 with a seating capacity of 65\n",
    "<br>$X_10$ = clasroom type 10 with a seating capacity of 45\n",
    "<br>Jupyter notebook with python based simplex algorithm was used to obtain optimal solution as shown below."
   ]
  },
  {
   "cell_type": "markdown",
   "metadata": {},
   "source": [
    "#### Using SciPy library with simplex algorithm"
   ]
  },
  {
   "cell_type": "code",
   "execution_count": 116,
   "metadata": {},
   "outputs": [],
   "source": [
    "from scipy.optimize import linprog"
   ]
  },
  {
   "cell_type": "code",
   "execution_count": 117,
   "metadata": {},
   "outputs": [],
   "source": [
    "obj = [-154, -148, -334, -18, -105, -140, -147, -65, -65, -45]\n",
    "lhs_ineq = [ [1,  1, 1, 2, 1, 1, 1, 1, 1,1], [154, 148, 334, 18, 105, 140, 147, 65, 65, 45], [50, 30, 70, 80, 110,20,40,75,90,30], [1,0,0,0,0,0,0,0,0,0],[0,1,0,0,0,0,0,0,0,0],[0,0,1,0,0,0,0,0,0,0],[0,0,0,1,0,0,0,0,0,0],[0,0,0,0,1,0,0,0,0,0],[0,0,0,0,0,1,0,0,0,0],[0,0,0,0,0,0,1,0,0,0],[0,0,0,0,0,0,0,1,0,0],[0,0,0,0,0,0,0,0,1,0],[0,0,0,0,0,0,0,0,0,1] ]\n",
    "rhs_ineq = [11,1239,300,1,1,1,2,1,1,1,1,1,1]\n",
    "\n",
    "bnd = [ (0, float(\"inf\")), (0, float(\"inf\")), (0, float(\"inf\")), (0, float(\"inf\")), (0, float(\"inf\")), (0, float(\"inf\")), (0, float(\"inf\")), (0, float(\"inf\")), (0, float(\"inf\")), (0, float(\"inf\")) ] "
   ]
  },
  {
   "cell_type": "code",
   "execution_count": 118,
   "metadata": {},
   "outputs": [],
   "source": [
    "opt = linprog(c=obj, A_ub=lhs_ineq, b_ub=rhs_ineq,  bounds=bnd, method=\"simplex\")"
   ]
  },
  {
   "cell_type": "code",
   "execution_count": 119,
   "metadata": {},
   "outputs": [
    {
     "data": {
      "text/plain": [
       "     con: array([], dtype=float64)\n",
       "     fun: -1025.2727272727273\n",
       " message: 'Optimization terminated successfully.'\n",
       "     nit: 15\n",
       "   slack: array([  4.45454545, 213.72727273,   0.        ,   0.        ,\n",
       "         0.        ,   0.        ,   2.        ,   0.45454545,\n",
       "         0.        ,   0.        ,   1.        ,   1.        ,\n",
       "         0.        ])\n",
       "  status: 0\n",
       " success: True\n",
       "       x: array([1.        , 1.        , 1.        , 0.        , 0.54545455,\n",
       "       1.        , 1.        , 0.        , 0.        , 1.        ])"
      ]
     },
     "execution_count": 119,
     "metadata": {},
     "output_type": "execute_result"
    }
   ],
   "source": [
    "opt"
   ]
  },
  {
   "cell_type": "markdown",
   "metadata": {},
   "source": [
    "#### Using SciPy library with Revised Simplex algorithm"
   ]
  },
  {
   "cell_type": "code",
   "execution_count": 1,
   "metadata": {},
   "outputs": [],
   "source": [
    "from scipy.optimize import linprog"
   ]
  },
  {
   "cell_type": "code",
   "execution_count": 2,
   "metadata": {},
   "outputs": [],
   "source": [
    "obj = [-154, -148, -334, -18, -105, -140, -147, -65, -65, -45]\n",
    "lhs_ineq = [ [1,  1, 1, 2, 1, 1, 1, 1, 1,1], [154, 148, 334, 18, 105, 140, 147, 65, 65, 45], [50, 30, 70, 80, 110,20,40,75,90,30], [1,0,0,0,0,0,0,0,0,0],[0,1,0,0,0,0,0,0,0,0],[0,0,1,0,0,0,0,0,0,0],[0,0,0,1,0,0,0,0,0,0],[0,0,0,0,1,0,0,0,0,0],[0,0,0,0,0,1,0,0,0,0],[0,0,0,0,0,0,1,0,0,0],[0,0,0,0,0,0,0,1,0,0],[0,0,0,0,0,0,0,0,1,0],[0,0,0,0,0,0,0,0,0,1] ]\n",
    "rhs_ineq = [11,1239,300,1,1,1,2,1,1,1,1,1,1]\n",
    "\n",
    "bnd = [ (0, float(\"inf\")), (0, float(\"inf\")), (0, float(\"inf\")), (0, float(\"inf\")), (0, float(\"inf\")), (0, float(\"inf\")), (0, float(\"inf\")), (0, float(\"inf\")), (0, float(\"inf\")), (0, float(\"inf\")) ] "
   ]
  },
  {
   "cell_type": "code",
   "execution_count": 14,
   "metadata": {},
   "outputs": [],
   "source": [
    "opt = linprog(c=obj, A_ub=lhs_ineq, b_ub=rhs_ineq,  bounds=bnd, method=\"revised simplex\")"
   ]
  },
  {
   "cell_type": "code",
   "execution_count": 15,
   "metadata": {},
   "outputs": [
    {
     "data": {
      "text/plain": [
       "     con: array([], dtype=float64)\n",
       "     fun: -1025.2727272727273\n",
       " message: 'Optimization terminated successfully.'\n",
       "     nit: 7\n",
       "   slack: array([  4.45454545, 213.72727273,   0.        ,   0.        ,\n",
       "         0.        ,   0.        ,   2.        ,   0.45454545,\n",
       "         0.        ,   0.        ,   1.        ,   1.        ,\n",
       "         0.        ])\n",
       "  status: 0\n",
       " success: True\n",
       "       x: array([1.        , 1.        , 1.        , 0.        , 0.54545455,\n",
       "       1.        , 1.        , 0.        , 0.        , 1.        ])"
      ]
     },
     "execution_count": 15,
     "metadata": {},
     "output_type": "execute_result"
    }
   ],
   "source": [
    "opt"
   ]
  },
  {
   "cell_type": "markdown",
   "metadata": {},
   "source": [
    "#### Using PULP"
   ]
  },
  {
   "cell_type": "code",
   "execution_count": 21,
   "metadata": {},
   "outputs": [],
   "source": [
    "from pulp import LpMaximize, LpProblem, LpStatus, lpSum, LpVariable"
   ]
  },
  {
   "cell_type": "code",
   "execution_count": 22,
   "metadata": {},
   "outputs": [
    {
     "name": "stdout",
     "output_type": "stream",
     "text": [
      "status: 1, Optimal\n",
      "objective: 1025.27272775\n",
      "x1: 1.0\n",
      "x2: 1.0\n",
      "x3: 1.0\n",
      "x4: 0.0\n",
      "x5: 0.54545455\n",
      "x6: 1.0\n",
      "x7: 1.0\n",
      "x8: 0.0\n",
      "x9: 0.0\n",
      "x10: 1.0\n",
      "number_of_classrooms: -4.45454545\n",
      "Number_of_seats: -213.72727224999994\n",
      "Total_number_of_allowable_students: 4.999999987376214e-07\n",
      "classroom_1: 0.0\n",
      "classroom_2: 0.0\n",
      "classroom_3: 0.0\n",
      "classroom_4: -2.0\n",
      "classroom_5: -0.45454545\n",
      "classroom_6: 0.0\n",
      "classroom_7: 0.0\n",
      "classroom_8: -1.0\n",
      "classroom_9: -1.0\n",
      "classroom_10: 0.0\n"
     ]
    }
   ],
   "source": [
    "# Define the model\n",
    "model = LpProblem(name=\"classroom-allocation\", sense=LpMaximize)\n",
    "\n",
    "# Define the decision variables\n",
    "x = {i: LpVariable(name=f\"x{i}\", lowBound=0) for i in range(1, 11)}\n",
    "\n",
    "# Add constraints\n",
    "model += (x[1] + x[2] + x[3] + 2 * x[4] + x[5] + x[6] + x[7] + x[8] + x[9] + x[10] <= 11, \"number of classrooms\")\n",
    "model += (154 * x[1] + 148 * x[2] + 334 * x[3] + 18 * x[4] + 105 * x[5] + 140 * x[6] + 147 * x[7] + 65 * x[8] + 65 * x[9] + 45 * x[10] <= 1239, \"Number of seats\")\n",
    "model += (50 * x[1] + 30 * x[2] + 70 * x[3] + 80 * x[4] + 110 * x[5] + 20 * x[6] + 40 * x[7] + 75 * x[8] + 90 * x[9] + 30 * x[10] <= 300, \"Total number of allowable students\")\n",
    "model += (x[1] <= 1, \"classroom 1\")\n",
    "model += (x[2] <= 1, \"classroom 2\")\n",
    "model += (x[3] <= 1, \"classroom 3\")\n",
    "model += (x[4] <= 2, \"classroom 4\")\n",
    "model += (x[5] <= 1, \"classroom 5\")\n",
    "model += (x[6] <= 1, \"classroom 6\")\n",
    "model += (x[7] <= 1, \"classroom 7\")\n",
    "model += (x[8] <= 1, \"classroom 8\")\n",
    "model += (x[9] <= 1, \"classroom 9\")\n",
    "model += (x[10] <= 1, \"classroom 10\")\n",
    "\n",
    "# Set the objective\n",
    "model += 154 * x[1] + 148 * x[2] + 334 * x[3] + 18 * x[4] + 105 * x[5] + 140 * x[6] + 147 * x[7] + 65 * x[8] + 65 * x[9] + 45 * x[10]\n",
    "\n",
    "# Solve the optimization problem\n",
    "status = model.solve()\n",
    "\n",
    "# Get the results\n",
    "print(f\"status: {model.status}, {LpStatus[model.status]}\")\n",
    "print(f\"objective: {model.objective.value()}\")\n",
    "\n",
    "for var in x.values():\n",
    "    print(f\"{var.name}: {var.value()}\")\n",
    "\n",
    "for name, constraint in model.constraints.items():\n",
    "    print(f\"{name}: {constraint.value()}\")\n"
   ]
  },
  {
   "cell_type": "markdown",
   "metadata": {},
   "source": [
    "## RESULTS"
   ]
  },
  {
   "cell_type": "markdown",
   "metadata": {},
   "source": [
    "From the result gotten above after fifteen iterations; it can be observed that seven(7) out of the ten(10) classrooms were assigned to students following the rules by the management on the ongoing COVID-19 pandemic.\n",
    "We can observe that all classrooms were used to provide a seating capacity of one thousand and twenty five (1025) to accomodate the student population as a result of the pandemic.\n",
    "The total classroom space (optimal solution) of one thousand and fifteen was obtained thus:\n",
    "(154 * 1) + (148 * 1) + (334 * 1) + (18 * 0) + (105 * 0.54545455) + (140 * 1) + (147 * 1) + (65 * 0) + (65 * 0) + (30 * 1) = 1025\n",
    "\n",
    "Seven out of the ten classrooms were utilized to provide a space of one thousand and fifteen (1015) for the three hundred students(300) following the rule of social distancing.\n",
    "From above; considering the global optimal solution gotten since the objective and constraints are convex, we can imply that classroom type one($T_1$) consisting of undergraduate students taking ENCH 315 were fully assigned, classroom type two($T_2$) consisting of graduate students taking ENCH 677 was fully assigned, classroom type three($T_3$) consisting of students taking ENCI 300 was fully assigned, classroom type four($T_4$) consisting of students taking ENCI 715 was not assigned because the number of students taking the course is grater than the total number of seats in the class, classroom type 5($T_5$) consisting of students taking ENEL 201 was partially assigned because the number of students taking the course is a little more than the number of seats we have in the class. Therefore, classroom type 5 was assigned 57(fifty seven) students which means that the management can reduce the number of student intake into the course to approximately half of what it is now. classroom type six($T_6$) consisting of students taking ENEL 601 was fully assigned to students, classroom type seven($T_7$) consisting of students taking ENGO 333 was fully assigned to students, classroom type eight($T_8$) consisting of students taking ENGO 675 was  not assigned because the classroom didn't meet the course specification which implies that the number of students were greater than the number of seats in the classroom. Classroom type nine($T_9$) consisting of students enrolled in ENME 101 was not also assigned because it doesn't meet the course specifications, classroom type ten ($T_10$) consisting of students enrolled in ENME 708 was fully assigned.\n",
    "\n",
    "The implication of this findings is that only seven out of the ten classrooms were assigned to students which means that the classrooms that were not assigned can be assigned to other students in other deparment instead of leaving them idle or the management can reduce the number of students intake during the COVID-19 pandemic if the classes in the engineering building are meant for one course in undergrad and one graduate course to maximize their profit margin."
   ]
  },
  {
   "cell_type": "markdown",
   "metadata": {},
   "source": [
    "## CONCLUSION"
   ]
  },
  {
   "cell_type": "markdown",
   "metadata": {},
   "source": [
    "The problem of allocation of scarce resource to satisfy unlimited human needs has been and will continue to be a \n",
    "global phenomenon confronting managers, administrators, entrepreneurs, and heads of institutions. The use of linear programming to solve the problem of over-allocation and under-allocation of the scarce \n",
    "classroom space was considered with particular reference to the Engineering building at the university of calgary. Data was \n",
    "collected from the College on the classroom facilities and the number of students per programme. \n",
    "A linear programming model was formulated based on the data collected to maximize the usage of the \n",
    "limited classroom space using python based on the simplex algorithm. \n",
    "Analysis of the results showed that ten out of the eleven classrooms could be used to create a \n",
    "maximum classroom space of one thousand one hundred and eighty five. It was also observed that the management could build more classrooms for the engineering students or assign the remaining students to calssroom in other departments.\n",
    "It is evidently clear from the above summary that linear programming is an effective tool that can be \n",
    "utilized by managers of Educational Institutions to avoid over-allocation and under- allocation of scarce \n",
    "resources, particularly classroom space. "
   ]
  },
  {
   "cell_type": "markdown",
   "metadata": {},
   "source": [
    "## REFERENCES"
   ]
  },
  {
   "cell_type": "markdown",
   "metadata": {},
   "source": [
    "<br>[1]  Frank Osei Frimpong and Alexandra Owusu, Allocation of Classroom Space Using \n",
    "Linear Programming, Journal of Economics and Sustainable Development 6(2) (2015), \n",
    "ISSN 2222-1700\n",
    "<br>[2] Gosselin K. and Truchon M. (1986). Allocation of Classrooms by Linear Programming: Vol.37, Journal of the \n",
    "Operational Research Society, Palgrave Macmillan Publishers Limited.\n",
    "<br>[3] Bylander T. (1997). A Linear Programming Heuristic for Optimal Planning, In AAAI97/IAAI-97, Proceedings \n",
    "Journal. \n",
    "<br>[4]  V. O. Oladokun and S. O. Badmus, An Integer Linear Programming Model of a \n",
    "University Course timetabling Problem, Pacific Journal of Science and Technology 9(2)\n",
    "(2008), 426-431.\n",
    "<br>[5]  H. Arsham, Links Among a Linear System of Equations, Matrix Inversion, and Linear \n",
    "Program Solver Routines, Journal of Mathematical Education in Science and Technology \n",
    "29(5) (2009), 764-769.\n",
    "<br>[6] Uvir Bhagirathi and Ritesh Ajoodha, Automatic Lecture, Tutorial, and Laboratory \n",
    "University Venue Allocation for Varying Class Sizes, Honours Research Report, Faculty \n",
    "of Science, School of Computer Science and Applied Mathematics, University Of The \n",
    "Witwatersrand"
   ]
  },
  {
   "cell_type": "code",
   "execution_count": null,
   "metadata": {},
   "outputs": [],
   "source": []
  }
 ],
 "metadata": {
  "kernelspec": {
   "display_name": "Python 3",
   "language": "python",
   "name": "python3"
  },
  "language_info": {
   "codemirror_mode": {
    "name": "ipython",
    "version": 3
   },
   "file_extension": ".py",
   "mimetype": "text/x-python",
   "name": "python",
   "nbconvert_exporter": "python",
   "pygments_lexer": "ipython3",
   "version": "3.8.5"
  }
 },
 "nbformat": 4,
 "nbformat_minor": 4
}
